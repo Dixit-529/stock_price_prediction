{
 "cells": [
  {
   "cell_type": "markdown",
   "id": "85ee9cee",
   "metadata": {},
   "source": [
    "## Stock Price Prediction using Stacked LSTM"
   ]
  },
  {
   "cell_type": "code",
   "execution_count": 1,
   "id": "9b6fdd27",
   "metadata": {},
   "outputs": [],
   "source": [
    "# !pip install pandas_datareader"
   ]
  },
  {
   "cell_type": "code",
   "execution_count": 2,
   "id": "12d53fb8",
   "metadata": {},
   "outputs": [],
   "source": [
    "# !pip install tiingo"
   ]
  },
  {
   "cell_type": "code",
   "execution_count": 3,
   "id": "4f47c253",
   "metadata": {},
   "outputs": [],
   "source": [
    "import pandas_datareader as pdr"
   ]
  },
  {
   "cell_type": "code",
   "execution_count": 4,
   "id": "ea9b2f3b",
   "metadata": {},
   "outputs": [],
   "source": [
    "from tiingo import TiingoClient\n",
    "\n",
    "# Configure API key\n",
    "config = {'api_key': 'b8f79618f5db6d6643956d4fde1a66b96a36ec55'}\n",
    "client = TiingoClient(config)"
   ]
  },
  {
   "cell_type": "code",
   "execution_count": 5,
   "id": "308b5043",
   "metadata": {},
   "outputs": [
    {
     "data": {
      "text/html": [
       "<div>\n",
       "<style scoped>\n",
       "    .dataframe tbody tr th:only-of-type {\n",
       "        vertical-align: middle;\n",
       "    }\n",
       "\n",
       "    .dataframe tbody tr th {\n",
       "        vertical-align: top;\n",
       "    }\n",
       "\n",
       "    .dataframe thead th {\n",
       "        text-align: right;\n",
       "    }\n",
       "</style>\n",
       "<table border=\"1\" class=\"dataframe\">\n",
       "  <thead>\n",
       "    <tr style=\"text-align: right;\">\n",
       "      <th></th>\n",
       "      <th>close</th>\n",
       "      <th>high</th>\n",
       "      <th>low</th>\n",
       "      <th>open</th>\n",
       "      <th>volume</th>\n",
       "      <th>adjClose</th>\n",
       "      <th>adjHigh</th>\n",
       "      <th>adjLow</th>\n",
       "      <th>adjOpen</th>\n",
       "      <th>adjVolume</th>\n",
       "      <th>divCash</th>\n",
       "      <th>splitFactor</th>\n",
       "    </tr>\n",
       "    <tr>\n",
       "      <th>date</th>\n",
       "      <th></th>\n",
       "      <th></th>\n",
       "      <th></th>\n",
       "      <th></th>\n",
       "      <th></th>\n",
       "      <th></th>\n",
       "      <th></th>\n",
       "      <th></th>\n",
       "      <th></th>\n",
       "      <th></th>\n",
       "      <th></th>\n",
       "      <th></th>\n",
       "    </tr>\n",
       "  </thead>\n",
       "  <tbody>\n",
       "    <tr>\n",
       "      <th>2000-01-03 00:00:00+00:00</th>\n",
       "      <td>111.94</td>\n",
       "      <td>112.50</td>\n",
       "      <td>101.69</td>\n",
       "      <td>104.87</td>\n",
       "      <td>4783900</td>\n",
       "      <td>0.843017</td>\n",
       "      <td>0.847234</td>\n",
       "      <td>0.765824</td>\n",
       "      <td>0.789773</td>\n",
       "      <td>535797335</td>\n",
       "      <td>0.0</td>\n",
       "      <td>1.0</td>\n",
       "    </tr>\n",
       "    <tr>\n",
       "      <th>2000-01-04 00:00:00+00:00</th>\n",
       "      <td>102.50</td>\n",
       "      <td>110.62</td>\n",
       "      <td>101.19</td>\n",
       "      <td>108.25</td>\n",
       "      <td>4574800</td>\n",
       "      <td>0.771925</td>\n",
       "      <td>0.833076</td>\n",
       "      <td>0.762059</td>\n",
       "      <td>0.815228</td>\n",
       "      <td>512378112</td>\n",
       "      <td>0.0</td>\n",
       "      <td>1.0</td>\n",
       "    </tr>\n",
       "    <tr>\n",
       "      <th>2000-01-05 00:00:00+00:00</th>\n",
       "      <td>104.00</td>\n",
       "      <td>110.56</td>\n",
       "      <td>103.00</td>\n",
       "      <td>103.75</td>\n",
       "      <td>6949300</td>\n",
       "      <td>0.783221</td>\n",
       "      <td>0.832624</td>\n",
       "      <td>0.775690</td>\n",
       "      <td>0.781338</td>\n",
       "      <td>778322378</td>\n",
       "      <td>0.0</td>\n",
       "      <td>1.0</td>\n",
       "    </tr>\n",
       "    <tr>\n",
       "      <th>2000-01-06 00:00:00+00:00</th>\n",
       "      <td>95.00</td>\n",
       "      <td>107.00</td>\n",
       "      <td>95.00</td>\n",
       "      <td>106.12</td>\n",
       "      <td>6856900</td>\n",
       "      <td>0.715442</td>\n",
       "      <td>0.805814</td>\n",
       "      <td>0.715442</td>\n",
       "      <td>0.799187</td>\n",
       "      <td>767973567</td>\n",
       "      <td>0.0</td>\n",
       "      <td>1.0</td>\n",
       "    </tr>\n",
       "    <tr>\n",
       "      <th>2000-01-07 00:00:00+00:00</th>\n",
       "      <td>99.50</td>\n",
       "      <td>101.00</td>\n",
       "      <td>95.50</td>\n",
       "      <td>96.50</td>\n",
       "      <td>4113700</td>\n",
       "      <td>0.749332</td>\n",
       "      <td>0.760628</td>\n",
       "      <td>0.719208</td>\n",
       "      <td>0.726739</td>\n",
       "      <td>460734860</td>\n",
       "      <td>0.0</td>\n",
       "      <td>1.0</td>\n",
       "    </tr>\n",
       "  </tbody>\n",
       "</table>\n",
       "</div>"
      ],
      "text/plain": [
       "                            close    high     low    open   volume  adjClose  \\\n",
       "date                                                                           \n",
       "2000-01-03 00:00:00+00:00  111.94  112.50  101.69  104.87  4783900  0.843017   \n",
       "2000-01-04 00:00:00+00:00  102.50  110.62  101.19  108.25  4574800  0.771925   \n",
       "2000-01-05 00:00:00+00:00  104.00  110.56  103.00  103.75  6949300  0.783221   \n",
       "2000-01-06 00:00:00+00:00   95.00  107.00   95.00  106.12  6856900  0.715442   \n",
       "2000-01-07 00:00:00+00:00   99.50  101.00   95.50   96.50  4113700  0.749332   \n",
       "\n",
       "                            adjHigh    adjLow   adjOpen  adjVolume  divCash  \\\n",
       "date                                                                          \n",
       "2000-01-03 00:00:00+00:00  0.847234  0.765824  0.789773  535797335      0.0   \n",
       "2000-01-04 00:00:00+00:00  0.833076  0.762059  0.815228  512378112      0.0   \n",
       "2000-01-05 00:00:00+00:00  0.832624  0.775690  0.781338  778322378      0.0   \n",
       "2000-01-06 00:00:00+00:00  0.805814  0.715442  0.799187  767973567      0.0   \n",
       "2000-01-07 00:00:00+00:00  0.760628  0.719208  0.726739  460734860      0.0   \n",
       "\n",
       "                           splitFactor  \n",
       "date                                    \n",
       "2000-01-03 00:00:00+00:00          1.0  \n",
       "2000-01-04 00:00:00+00:00          1.0  \n",
       "2000-01-05 00:00:00+00:00          1.0  \n",
       "2000-01-06 00:00:00+00:00          1.0  \n",
       "2000-01-07 00:00:00+00:00          1.0  "
      ]
     },
     "execution_count": 5,
     "metadata": {},
     "output_type": "execute_result"
    }
   ],
   "source": [
    "# Collect data\n",
    "df = client.get_dataframe(tickers='AAPL',startDate='2000-01-01', endDate='2024-11-15')\n",
    "df.head()"
   ]
  },
  {
   "cell_type": "code",
   "execution_count": 6,
   "id": "f6a741b3",
   "metadata": {},
   "outputs": [
    {
     "data": {
      "text/plain": [
       "(6259, 12)"
      ]
     },
     "execution_count": 6,
     "metadata": {},
     "output_type": "execute_result"
    }
   ],
   "source": [
    "df.shape"
   ]
  },
  {
   "cell_type": "code",
   "execution_count": 7,
   "id": "73ad70fc",
   "metadata": {},
   "outputs": [],
   "source": [
    "df.to_csv('AAPL.csv',index=False)"
   ]
  },
  {
   "cell_type": "code",
   "execution_count": 8,
   "id": "f3870b2e",
   "metadata": {},
   "outputs": [],
   "source": [
    "import pandas as pd"
   ]
  },
  {
   "cell_type": "code",
   "execution_count": 9,
   "id": "d83db5cc",
   "metadata": {},
   "outputs": [],
   "source": [
    "df = pd.read_csv('AAPL.csv')"
   ]
  },
  {
   "cell_type": "code",
   "execution_count": 10,
   "id": "2c7d56ac",
   "metadata": {},
   "outputs": [
    {
     "data": {
      "text/html": [
       "<div>\n",
       "<style scoped>\n",
       "    .dataframe tbody tr th:only-of-type {\n",
       "        vertical-align: middle;\n",
       "    }\n",
       "\n",
       "    .dataframe tbody tr th {\n",
       "        vertical-align: top;\n",
       "    }\n",
       "\n",
       "    .dataframe thead th {\n",
       "        text-align: right;\n",
       "    }\n",
       "</style>\n",
       "<table border=\"1\" class=\"dataframe\">\n",
       "  <thead>\n",
       "    <tr style=\"text-align: right;\">\n",
       "      <th></th>\n",
       "      <th>close</th>\n",
       "      <th>high</th>\n",
       "      <th>low</th>\n",
       "      <th>open</th>\n",
       "      <th>volume</th>\n",
       "      <th>adjClose</th>\n",
       "      <th>adjHigh</th>\n",
       "      <th>adjLow</th>\n",
       "      <th>adjOpen</th>\n",
       "      <th>adjVolume</th>\n",
       "      <th>divCash</th>\n",
       "      <th>splitFactor</th>\n",
       "    </tr>\n",
       "  </thead>\n",
       "  <tbody>\n",
       "    <tr>\n",
       "      <th>0</th>\n",
       "      <td>111.94</td>\n",
       "      <td>112.50</td>\n",
       "      <td>101.69</td>\n",
       "      <td>104.87</td>\n",
       "      <td>4783900</td>\n",
       "      <td>0.843017</td>\n",
       "      <td>0.847234</td>\n",
       "      <td>0.765824</td>\n",
       "      <td>0.789773</td>\n",
       "      <td>535797335</td>\n",
       "      <td>0.0</td>\n",
       "      <td>1.0</td>\n",
       "    </tr>\n",
       "    <tr>\n",
       "      <th>1</th>\n",
       "      <td>102.50</td>\n",
       "      <td>110.62</td>\n",
       "      <td>101.19</td>\n",
       "      <td>108.25</td>\n",
       "      <td>4574800</td>\n",
       "      <td>0.771925</td>\n",
       "      <td>0.833076</td>\n",
       "      <td>0.762059</td>\n",
       "      <td>0.815228</td>\n",
       "      <td>512378112</td>\n",
       "      <td>0.0</td>\n",
       "      <td>1.0</td>\n",
       "    </tr>\n",
       "    <tr>\n",
       "      <th>2</th>\n",
       "      <td>104.00</td>\n",
       "      <td>110.56</td>\n",
       "      <td>103.00</td>\n",
       "      <td>103.75</td>\n",
       "      <td>6949300</td>\n",
       "      <td>0.783221</td>\n",
       "      <td>0.832624</td>\n",
       "      <td>0.775690</td>\n",
       "      <td>0.781338</td>\n",
       "      <td>778322378</td>\n",
       "      <td>0.0</td>\n",
       "      <td>1.0</td>\n",
       "    </tr>\n",
       "    <tr>\n",
       "      <th>3</th>\n",
       "      <td>95.00</td>\n",
       "      <td>107.00</td>\n",
       "      <td>95.00</td>\n",
       "      <td>106.12</td>\n",
       "      <td>6856900</td>\n",
       "      <td>0.715442</td>\n",
       "      <td>0.805814</td>\n",
       "      <td>0.715442</td>\n",
       "      <td>0.799187</td>\n",
       "      <td>767973567</td>\n",
       "      <td>0.0</td>\n",
       "      <td>1.0</td>\n",
       "    </tr>\n",
       "    <tr>\n",
       "      <th>4</th>\n",
       "      <td>99.50</td>\n",
       "      <td>101.00</td>\n",
       "      <td>95.50</td>\n",
       "      <td>96.50</td>\n",
       "      <td>4113700</td>\n",
       "      <td>0.749332</td>\n",
       "      <td>0.760628</td>\n",
       "      <td>0.719208</td>\n",
       "      <td>0.726739</td>\n",
       "      <td>460734860</td>\n",
       "      <td>0.0</td>\n",
       "      <td>1.0</td>\n",
       "    </tr>\n",
       "  </tbody>\n",
       "</table>\n",
       "</div>"
      ],
      "text/plain": [
       "    close    high     low    open   volume  adjClose   adjHigh    adjLow  \\\n",
       "0  111.94  112.50  101.69  104.87  4783900  0.843017  0.847234  0.765824   \n",
       "1  102.50  110.62  101.19  108.25  4574800  0.771925  0.833076  0.762059   \n",
       "2  104.00  110.56  103.00  103.75  6949300  0.783221  0.832624  0.775690   \n",
       "3   95.00  107.00   95.00  106.12  6856900  0.715442  0.805814  0.715442   \n",
       "4   99.50  101.00   95.50   96.50  4113700  0.749332  0.760628  0.719208   \n",
       "\n",
       "    adjOpen  adjVolume  divCash  splitFactor  \n",
       "0  0.789773  535797335      0.0          1.0  \n",
       "1  0.815228  512378112      0.0          1.0  \n",
       "2  0.781338  778322378      0.0          1.0  \n",
       "3  0.799187  767973567      0.0          1.0  \n",
       "4  0.726739  460734860      0.0          1.0  "
      ]
     },
     "execution_count": 10,
     "metadata": {},
     "output_type": "execute_result"
    }
   ],
   "source": [
    "df.head()"
   ]
  },
  {
   "cell_type": "code",
   "execution_count": 11,
   "id": "a1ee2e1b",
   "metadata": {},
   "outputs": [],
   "source": [
    "df1 = df['close']"
   ]
  },
  {
   "cell_type": "code",
   "execution_count": 12,
   "id": "3fcac18d",
   "metadata": {},
   "outputs": [
    {
     "data": {
      "text/plain": [
       "(6259,)"
      ]
     },
     "execution_count": 12,
     "metadata": {},
     "output_type": "execute_result"
    }
   ],
   "source": [
    "df1.shape"
   ]
  },
  {
   "cell_type": "code",
   "execution_count": 13,
   "id": "7ff889e0",
   "metadata": {},
   "outputs": [
    {
     "data": {
      "text/plain": [
       "[<matplotlib.lines.Line2D at 0x26e7151c590>]"
      ]
     },
     "execution_count": 13,
     "metadata": {},
     "output_type": "execute_result"
    },
    {
     "data": {
      "image/png": "[encoded data removed]",
      "text/plain": [
       "<Figure size 640x480 with 1 Axes>"
      ]
     },
     "metadata": {},
     "output_type": "display_data"
    }
   ],
   "source": [
    "import matplotlib.pyplot as plt\n",
    "plt.plot(df1)"
   ]
  },
  {
   "cell_type": "code",
   "execution_count": 14,
   "id": "324014bd",
   "metadata": {},
   "outputs": [],
   "source": [
    "## LSTM are sensitive to scale of data so i am applying min_max scaler"
   ]
  },
  {
   "cell_type": "code",
   "execution_count": 15,
   "id": "079bdeca",
   "metadata": {},
   "outputs": [],
   "source": [
    "import numpy as np\n",
    "from sklearn.preprocessing import MinMaxScaler"
   ]
  },
  {
   "cell_type": "code",
   "execution_count": 16,
   "id": "86eb00f4",
   "metadata": {},
   "outputs": [],
   "source": [
    "scaler1 = MinMaxScaler(feature_range=(0,1))\n",
    "df1 = scaler1.fit_transform(np.array(df1).reshape(-1,1))"
   ]
  },
  {
   "cell_type": "code",
   "execution_count": 17,
   "id": "fce7e5fc",
   "metadata": {},
   "outputs": [
    {
     "data": {
      "text/plain": [
       "(6259, 1)"
      ]
     },
     "execution_count": 17,
     "metadata": {},
     "output_type": "execute_result"
    }
   ],
   "source": [
    "df1.shape"
   ]
  },
  {
   "cell_type": "markdown",
   "id": "dedf1c79",
   "metadata": {},
   "source": [
    "### splitting date into train test"
   ]
  },
  {
   "cell_type": "code",
   "execution_count": 18,
   "id": "46561a04",
   "metadata": {},
   "outputs": [],
   "source": [
    "training_size = int(len(df1)*0.70)\n",
    "test_size = len(df1) - training_size"
   ]
  },
  {
   "cell_type": "code",
   "execution_count": 19,
   "id": "e8f88d7f",
   "metadata": {},
   "outputs": [],
   "source": [
    "train_data,test_data = df1[0:training_size,:],df1[training_size:len(df1),:]"
   ]
  },
  {
   "cell_type": "code",
   "execution_count": 20,
   "id": "a768b1bc",
   "metadata": {},
   "outputs": [],
   "source": [
    "def create_dataset(dataset,timestep=1):\n",
    "    datax,datay = [],[]\n",
    "    for i in range(len(dataset)-timestep-1):\n",
    "        a = dataset[i:i+timestep,0]\n",
    "        datax.append(a)\n",
    "        datay.append(dataset[i+timestep,0])\n",
    "        \n",
    "    return np.array(datax),np.array(datay)"
   ]
  },
  {
   "cell_type": "code",
   "execution_count": 21,
   "id": "309222e7",
   "metadata": {},
   "outputs": [],
   "source": [
    "#  reshape into x = t,t+1,t+2 ,y=t+4\n",
    "timestep = 120\n",
    "x_train,y_train = create_dataset(train_data,timestep)\n",
    "x_test,y_test = create_dataset(test_data,timestep)\n"
   ]
  },
  {
   "cell_type": "code",
   "execution_count": 22,
   "id": "e38f03d3",
   "metadata": {},
   "outputs": [
    {
     "data": {
      "text/plain": [
       "array([[0.14342942, 0.129728  , 0.13190514, ..., 0.12791373, 0.0616999 ,\n",
       "        0.05897123],\n",
       "       [0.129728  , 0.13190514, 0.11884235, ..., 0.0616999 , 0.05897123,\n",
       "        0.05598131],\n",
       "       [0.13190514, 0.11884235, 0.12537374, ..., 0.05897123, 0.05598131,\n",
       "        0.05952277],\n",
       "       ...,\n",
       "       [0.14046852, 0.1393219 , 0.14054109, ..., 0.2041859 , 0.20351824,\n",
       "        0.2042875 ],\n",
       "       [0.1393219 , 0.14054109, 0.14210862, ..., 0.20351824, 0.2042875 ,\n",
       "        0.20391013],\n",
       "       [0.14054109, 0.14210862, 0.14369067, ..., 0.2042875 , 0.20391013,\n",
       "        0.20399721]])"
      ]
     },
     "execution_count": 22,
     "metadata": {},
     "output_type": "execute_result"
    }
   ],
   "source": [
    "x_train"
   ]
  },
  {
   "cell_type": "code",
   "execution_count": 23,
   "id": "ad372a69",
   "metadata": {},
   "outputs": [
    {
     "data": {
      "text/plain": [
       "((4260, 120), (4260,))"
      ]
     },
     "execution_count": 23,
     "metadata": {},
     "output_type": "execute_result"
    }
   ],
   "source": [
    "x_train.shape,y_train.shape"
   ]
  },
  {
   "cell_type": "code",
   "execution_count": 24,
   "id": "e8faec03",
   "metadata": {},
   "outputs": [
    {
     "data": {
      "text/plain": [
       "((1757, 120), (1757,))"
      ]
     },
     "execution_count": 24,
     "metadata": {},
     "output_type": "execute_result"
    }
   ],
   "source": [
    "x_test.shape,y_test.shape"
   ]
  },
  {
   "cell_type": "code",
   "execution_count": 25,
   "id": "2854649b",
   "metadata": {},
   "outputs": [],
   "source": [
    "# reshape input into [samples,timesteps,features] which is required for stacked LSTM\n",
    "x_train = x_train.reshape(x_train.shape[0],x_train.shape[1],1)\n",
    "x_test = x_test.reshape(x_test.shape[0],x_test.shape[1],1)"
   ]
  },
  {
   "cell_type": "markdown",
   "id": "afd45aff",
   "metadata": {},
   "source": [
    "## CREATE LSTM MODEL"
   ]
  },
  {
   "cell_type": "code",
   "execution_count": 26,
   "id": "6830564c",
   "metadata": {},
   "outputs": [
    {
     "name": "stdout",
     "output_type": "stream",
     "text": [
      "WARNING:tensorflow:From D:\\anaconda\\Lib\\site-packages\\keras\\src\\losses.py:2976: The name tf.losses.sparse_softmax_cross_entropy is deprecated. Please use tf.compat.v1.losses.sparse_softmax_cross_entropy instead.\n",
      "\n"
     ]
    }
   ],
   "source": [
    "from tensorflow.keras.models import Sequential\n",
    "from tensorflow.keras.layers import Dense,LSTM"
   ]
  },
  {
   "cell_type": "code",
   "execution_count": 31,
   "id": "68b0e8ed",
   "metadata": {},
   "outputs": [],
   "source": [
    "model = Sequential()\n",
    "model.add(LSTM(200,return_sequences=True,input_shape=(120,1)))\n",
    "model.add(LSTM(100,return_sequences=True))\n",
    "model.add(LSTM(50,return_sequences=True))\n",
    "model.add(LSTM(25))\n",
    "model.add(Dense(1))"
   ]
  },
  {
   "cell_type": "code",
   "execution_count": 32,
   "id": "3ada28db",
   "metadata": {},
   "outputs": [],
   "source": [
    "model.compile(loss='mean_squared_error',optimizer='adam')"
   ]
  },
  {
   "cell_type": "code",
   "execution_count": 33,
   "id": "2b52d14b",
   "metadata": {},
   "outputs": [
    {
     "name": "stdout",
     "output_type": "stream",
     "text": [
      "Model: \"sequential_1\"\n",
      "_________________________________________________________________\n",
      " Layer (type)                Output Shape              Param #   \n",
      "=================================================================\n",
      " lstm_4 (LSTM)               (None, 120, 200)          161600    \n",
      "                                                                 \n",
      " lstm_5 (LSTM)               (None, 120, 100)          120400    \n",
      "                                                                 \n",
      " lstm_6 (LSTM)               (None, 120, 50)           30200     \n",
      "                                                                 \n",
      " lstm_7 (LSTM)               (None, 25)                7600      \n",
      "                                                                 \n",
      " dense_1 (Dense)             (None, 1)                 26        \n",
      "                                                                 \n",
      "=================================================================\n",
      "Total params: 319826 (1.22 MB)\n",
      "Trainable params: 319826 (1.22 MB)\n",
      "Non-trainable params: 0 (0.00 Byte)\n",
      "_________________________________________________________________\n"
     ]
    }
   ],
   "source": [
    "model.summary()"
   ]
  },
  {
   "cell_type": "code",
   "execution_count": 34,
   "id": "4249ddee",
   "metadata": {},
   "outputs": [
    {
     "name": "stdout",
     "output_type": "stream",
     "text": [
      "Epoch 1/50\n",
      "67/67 [==============================] - 36s 391ms/step - loss: 0.0074 - val_loss: 0.0022\n",
      "Epoch 2/50\n",
      "67/67 [==============================] - 24s 361ms/step - loss: 0.0018 - val_loss: 0.0016\n",
      "Epoch 3/50\n",
      "67/67 [==============================] - 24s 366ms/step - loss: 0.0016 - val_loss: 0.0013\n",
      "Epoch 4/50\n",
      "67/67 [==============================] - 25s 367ms/step - loss: 0.0013 - val_loss: 0.0012\n",
      "Epoch 5/50\n",
      "67/67 [==============================] - 24s 365ms/step - loss: 0.0012 - val_loss: 0.0010\n",
      "Epoch 6/50\n",
      "67/67 [==============================] - 24s 364ms/step - loss: 0.0011 - val_loss: 9.4457e-04\n",
      "Epoch 7/50\n",
      "67/67 [==============================] - 26s 384ms/step - loss: 9.9651e-04 - val_loss: 8.4748e-04\n",
      "Epoch 8/50\n",
      "67/67 [==============================] - 25s 370ms/step - loss: 9.0961e-04 - val_loss: 9.2819e-04\n",
      "Epoch 9/50\n",
      "67/67 [==============================] - 25s 370ms/step - loss: 7.6287e-04 - val_loss: 6.7713e-04\n",
      "Epoch 10/50\n",
      "67/67 [==============================] - 25s 368ms/step - loss: 7.9213e-04 - val_loss: 9.1559e-04\n",
      "Epoch 11/50\n",
      "67/67 [==============================] - 25s 366ms/step - loss: 7.0420e-04 - val_loss: 0.0019\n",
      "Epoch 12/50\n",
      "67/67 [==============================] - 24s 365ms/step - loss: 7.7198e-04 - val_loss: 4.9214e-04\n",
      "Epoch 13/50\n",
      "67/67 [==============================] - 25s 368ms/step - loss: 6.3628e-04 - val_loss: 6.8733e-04\n",
      "Epoch 14/50\n",
      "67/67 [==============================] - 25s 368ms/step - loss: 5.0737e-04 - val_loss: 4.0747e-04\n",
      "Epoch 15/50\n",
      "67/67 [==============================] - 25s 367ms/step - loss: 4.3988e-04 - val_loss: 4.4044e-04\n",
      "Epoch 16/50\n",
      "67/67 [==============================] - 24s 364ms/step - loss: 4.1265e-04 - val_loss: 5.4265e-04\n",
      "Epoch 17/50\n",
      "67/67 [==============================] - 24s 364ms/step - loss: 4.1533e-04 - val_loss: 3.1716e-04\n",
      "Epoch 18/50\n",
      "67/67 [==============================] - 24s 366ms/step - loss: 4.0593e-04 - val_loss: 3.8289e-04\n",
      "Epoch 19/50\n",
      "67/67 [==============================] - 24s 363ms/step - loss: 3.0805e-04 - val_loss: 3.3073e-04\n",
      "Epoch 20/50\n",
      "67/67 [==============================] - 24s 363ms/step - loss: 3.1486e-04 - val_loss: 3.9396e-04\n",
      "Epoch 21/50\n",
      "67/67 [==============================] - 24s 361ms/step - loss: 3.1680e-04 - val_loss: 4.9409e-04\n",
      "Epoch 22/50\n",
      "67/67 [==============================] - 24s 366ms/step - loss: 3.0562e-04 - val_loss: 2.7992e-04\n",
      "Epoch 23/50\n",
      "67/67 [==============================] - 24s 365ms/step - loss: 3.2370e-04 - val_loss: 2.4547e-04\n",
      "Epoch 24/50\n",
      "67/67 [==============================] - 24s 363ms/step - loss: 2.9487e-04 - val_loss: 2.6767e-04\n",
      "Epoch 25/50\n",
      "67/67 [==============================] - 24s 364ms/step - loss: 2.7815e-04 - val_loss: 2.3988e-04\n",
      "Epoch 26/50\n",
      "67/67 [==============================] - 24s 363ms/step - loss: 3.0915e-04 - val_loss: 3.0360e-04\n",
      "Epoch 27/50\n",
      "67/67 [==============================] - 24s 361ms/step - loss: 2.7986e-04 - val_loss: 2.3082e-04\n",
      "Epoch 28/50\n",
      "67/67 [==============================] - 24s 360ms/step - loss: 2.5099e-04 - val_loss: 3.1561e-04\n",
      "Epoch 29/50\n",
      "67/67 [==============================] - 24s 364ms/step - loss: 2.8876e-04 - val_loss: 2.3314e-04\n",
      "Epoch 30/50\n",
      "67/67 [==============================] - 24s 363ms/step - loss: 2.5591e-04 - val_loss: 3.5159e-04\n",
      "Epoch 31/50\n",
      "67/67 [==============================] - 24s 362ms/step - loss: 3.8287e-04 - val_loss: 2.3542e-04\n",
      "Epoch 32/50\n",
      "67/67 [==============================] - 24s 365ms/step - loss: 2.4937e-04 - val_loss: 2.2831e-04\n",
      "Epoch 33/50\n",
      "67/67 [==============================] - 24s 363ms/step - loss: 2.5158e-04 - val_loss: 2.2487e-04\n",
      "Epoch 34/50\n",
      "67/67 [==============================] - 24s 363ms/step - loss: 3.0349e-04 - val_loss: 2.3445e-04\n",
      "Epoch 35/50\n",
      "67/67 [==============================] - 24s 361ms/step - loss: 3.1004e-04 - val_loss: 2.8450e-04\n",
      "Epoch 36/50\n",
      "67/67 [==============================] - 24s 365ms/step - loss: 2.7396e-04 - val_loss: 2.2060e-04\n",
      "Epoch 37/50\n",
      "67/67 [==============================] - 26s 382ms/step - loss: 2.5432e-04 - val_loss: 2.2367e-04\n",
      "Epoch 38/50\n",
      "67/67 [==============================] - 24s 365ms/step - loss: 2.4256e-04 - val_loss: 2.2470e-04\n",
      "Epoch 39/50\n",
      "67/67 [==============================] - 24s 365ms/step - loss: 2.6245e-04 - val_loss: 3.2380e-04\n",
      "Epoch 40/50\n",
      "67/67 [==============================] - 24s 363ms/step - loss: 2.4652e-04 - val_loss: 2.3199e-04\n",
      "Epoch 41/50\n",
      "67/67 [==============================] - 24s 360ms/step - loss: 2.8323e-04 - val_loss: 2.8422e-04\n",
      "Epoch 42/50\n",
      "67/67 [==============================] - 24s 363ms/step - loss: 2.9524e-04 - val_loss: 2.4609e-04\n",
      "Epoch 43/50\n",
      "67/67 [==============================] - 24s 365ms/step - loss: 2.8684e-04 - val_loss: 2.1945e-04\n",
      "Epoch 44/50\n",
      "67/67 [==============================] - 24s 364ms/step - loss: 2.9311e-04 - val_loss: 2.9188e-04\n",
      "Epoch 45/50\n",
      "67/67 [==============================] - 24s 363ms/step - loss: 2.7558e-04 - val_loss: 2.4512e-04\n",
      "Epoch 46/50\n",
      "67/67 [==============================] - 25s 376ms/step - loss: 2.5540e-04 - val_loss: 2.1849e-04\n",
      "Epoch 47/50\n",
      "67/67 [==============================] - 26s 390ms/step - loss: 2.5689e-04 - val_loss: 2.1747e-04\n",
      "Epoch 48/50\n",
      "67/67 [==============================] - 25s 372ms/step - loss: 2.7182e-04 - val_loss: 2.1618e-04\n",
      "Epoch 49/50\n",
      "67/67 [==============================] - 25s 373ms/step - loss: 2.7757e-04 - val_loss: 3.0403e-04\n",
      "Epoch 50/50\n",
      "67/67 [==============================] - 25s 375ms/step - loss: 2.3711e-04 - val_loss: 2.1716e-04\n"
     ]
    },
    {
     "data": {
      "text/plain": [
       "<keras.src.callbacks.History at 0x26e153394d0>"
      ]
     },
     "execution_count": 34,
     "metadata": {},
     "output_type": "execute_result"
    }
   ],
   "source": [
    "model.fit(x_train,y_train,validation_data=(x_test,y_test),epochs=50,batch_size=64,verbose=True)"
   ]
  },
  {
   "cell_type": "markdown",
   "id": "bfcef748",
   "metadata": {},
   "source": [
    "## predictions"
   ]
  },
  {
   "cell_type": "code",
   "execution_count": 35,
   "id": "55fdbfc8",
   "metadata": {},
   "outputs": [
    {
     "name": "stdout",
     "output_type": "stream",
     "text": [
      "134/134 [==============================] - 12s 71ms/step\n",
      "55/55 [==============================] - 4s 74ms/step\n"
     ]
    }
   ],
   "source": [
    "train_predict = model.predict(x_train)\n",
    "test_predict = model.predict(x_test)"
   ]
  },
  {
   "cell_type": "code",
   "execution_count": 36,
   "id": "66542118",
   "metadata": {},
   "outputs": [],
   "source": [
    "#  transfer back to original form\n",
    "train_predict = scaler1.inverse_transform(train_predict)\n",
    "test_predict = scaler1.inverse_transform(test_predict)"
   ]
  },
  {
   "cell_type": "code",
   "execution_count": 37,
   "id": "59ca5a70",
   "metadata": {},
   "outputs": [
    {
     "data": {
      "text/plain": [
       "array([78.474144], dtype=float32)"
      ]
     },
     "execution_count": 37,
     "metadata": {},
     "output_type": "execute_result"
    }
   ],
   "source": [
    "train_predict[0]"
   ]
  },
  {
   "cell_type": "code",
   "execution_count": 38,
   "id": "f078daed",
   "metadata": {},
   "outputs": [
    {
     "data": {
      "text/plain": [
       "243.5564220489192"
      ]
     },
     "execution_count": 38,
     "metadata": {},
     "output_type": "execute_result"
    }
   ],
   "source": [
    "import math\n",
    "from sklearn.metrics import mean_squared_error\n",
    "math.sqrt(mean_squared_error(y_train,train_predict))"
   ]
  },
  {
   "cell_type": "code",
   "execution_count": 39,
   "id": "878ad1f9",
   "metadata": {},
   "outputs": [
    {
     "data": {
      "text/plain": [
       "197.67514607448544"
      ]
     },
     "execution_count": 39,
     "metadata": {},
     "output_type": "execute_result"
    }
   ],
   "source": [
    "math.sqrt(mean_squared_error(y_test,test_predict))"
   ]
  },
  {
   "cell_type": "markdown",
   "id": "a38fc326",
   "metadata": {},
   "source": [
    "## Plot the predictions and original prices"
   ]
  },
  {
   "cell_type": "code",
   "execution_count": 41,
   "id": "69907907",
   "metadata": {},
   "outputs": [
    {
     "data": {
      "image/png": "[encoded data removed]",
      "text/plain": [
       "<Figure size 640x480 with 1 Axes>"
      ]
     },
     "metadata": {},
     "output_type": "display_data"
    }
   ],
   "source": [
    "look_back = 120\n",
    "# shift train prediction for plotting\n",
    "train_predict_plot = np.empty_like(df1)\n",
    "train_predict_plot[:,:]=np.nan\n",
    "train_predict_plot[look_back:len(train_predict)+look_back,:] = train_predict\n",
    "\n",
    "# shift test prediction for plotting\n",
    "test_predict_plot = np.empty_like(df1)\n",
    "test_predict_plot[:,:] = np.nan\n",
    "test_predict_plot[len(train_predict)+2*look_back+1:len(df1)-1,:] = test_predict\n",
    "\n",
    "# plot baseline and predictions\n",
    "plt.plot(scaler1.inverse_transform(df1))\n",
    "plt.plot(train_predict_plot)\n",
    "plt.plot(test_predict_plot)\n",
    "plt.show()\n"
   ]
  },
  {
   "cell_type": "markdown",
   "id": "06fc9903",
   "metadata": {},
   "source": [
    "# Doing predictions for next 30 days"
   ]
  },
  {
   "cell_type": "code",
   "execution_count": 42,
   "id": "d1b6866a",
   "metadata": {},
   "outputs": [
    {
     "data": {
      "text/plain": [
       "1878"
      ]
     },
     "execution_count": 42,
     "metadata": {},
     "output_type": "execute_result"
    }
   ],
   "source": [
    "len(test_data)"
   ]
  },
  {
   "cell_type": "code",
   "execution_count": 52,
   "id": "5e8d5b18",
   "metadata": {},
   "outputs": [
    {
     "data": {
      "text/plain": [
       "(1, 120)"
      ]
     },
     "execution_count": 52,
     "metadata": {},
     "output_type": "execute_result"
    }
   ],
   "source": [
    "input_features = test_data[-120:,:].reshape(1,-1)\n",
    "input_features.shape"
   ]
  },
  {
   "cell_type": "code",
   "execution_count": 53,
   "id": "1360b094",
   "metadata": {},
   "outputs": [
    {
     "data": {
      "text/plain": [
       "[0.2571482481349241,\n",
       " 0.25859966907602544,\n",
       " 0.25999303317948275,\n",
       " 0.2625765624546431,\n",
       " 0.26304101715579553,\n",
       " 0.2652471769862696,\n",
       " 0.2632297018781387,\n",
       " 0.26672762634619296,\n",
       " 0.2612557693982409,\n",
       " 0.2816192052018927,\n",
       " 0.2902116171732126,\n",
       " 0.2919097796743012,\n",
       " 0.28936979302737387,\n",
       " 0.2954367325611774,\n",
       " 0.29198235072135625,\n",
       " 0.28529130018287907,\n",
       " 0.28211268832186714,\n",
       " 0.283056111933583,\n",
       " 0.28440593340880727,\n",
       " 0.29047287294261087,\n",
       " 0.29170658074254696,\n",
       " 0.28665563586751436,\n",
       " 0.29555284623646555,\n",
       " 0.30066184794914225,\n",
       " 0.30251966675375197,\n",
       " 0.3094719730616274,\n",
       " 0.31162007605445735,\n",
       " 0.3128682980638045,\n",
       " 0.3191094081105402,\n",
       " 0.311257220819182,\n",
       " 0.31556794101425295,\n",
       " 0.32117042584690414,\n",
       " 0.3217800226421667,\n",
       " 0.31315858225202475,\n",
       " 0.3063369038288485,\n",
       " 0.30652558855119166,\n",
       " 0.3060175912218062,\n",
       " 0.30754158320996255,\n",
       " 0.2981508897210369,\n",
       " 0.29662689773288053,\n",
       " 0.29730906557519815,\n",
       " 0.29771546343870653,\n",
       " 0.2985282591657233,\n",
       " 0.3032889198525357,\n",
       " 0.2978896339516387,\n",
       " 0.3000667653632907,\n",
       " 0.2846962175970275,\n",
       " 0.2817353188771808,\n",
       " 0.28549449911463326,\n",
       " 0.29055995819907693,\n",
       " 0.29481262155650384,\n",
       " 0.2966849545705246,\n",
       " 0.3021132688902436,\n",
       " 0.3027664083137392,\n",
       " 0.3071206711370432,\n",
       " 0.309051060988708,\n",
       " 0.30881883363813173,\n",
       " 0.3097187146216146,\n",
       " 0.30955905831809344,\n",
       " 0.30684490115823393,\n",
       " 0.310197683532178,\n",
       " 0.3106911666521525,\n",
       " 0.3119248744520886,\n",
       " 0.3096896862027926,\n",
       " 0.31447937530842696,\n",
       " 0.3133327527649569,\n",
       " 0.3042904003018956,\n",
       " 0.301503672094981,\n",
       " 0.30372434613486604,\n",
       " 0.301460129466748,\n",
       " 0.3015907573514471,\n",
       " 0.30042962059856604,\n",
       " 0.3041307439983744,\n",
       " 0.3042904003018956,\n",
       " 0.3038985166477982,\n",
       " 0.29492873523179197,\n",
       " 0.2956109030741096,\n",
       " 0.3012714447444048,\n",
       " 0.31314406804261374,\n",
       " 0.3121716160120758,\n",
       " 0.30966065778397056,\n",
       " 0.31096693663096175,\n",
       " 0.3095155156898604,\n",
       " 0.31118464977212695,\n",
       " 0.3115765334262243,\n",
       " 0.3191384365293623,\n",
       " 0.3092832883392842,\n",
       " 0.31011059827571197,\n",
       " 0.30849952103108946,\n",
       " 0.310139626694534,\n",
       " 0.30272286568550616,\n",
       " 0.3086446631251996,\n",
       " 0.31411652007315166,\n",
       " 0.31339080960260096,\n",
       " 0.31122819240036,\n",
       " 0.31667102092949,\n",
       " 0.3203721443292984,\n",
       " 0.31736770298121864,\n",
       " 0.31790472872942616,\n",
       " 0.32204127841156494,\n",
       " 0.3241893814043949,\n",
       " 0.32328950042091215,\n",
       " 0.31588725362129527,\n",
       " 0.31561148364248603,\n",
       " 0.31683067723301117,\n",
       " 0.31971900490580285,\n",
       " 0.32011088855990016,\n",
       " 0.31492931580016836,\n",
       " 0.3088478620569538,\n",
       " 0.30449359923364977,\n",
       " 0.3031873203866586,\n",
       " 0.3052773665418445,\n",
       " 0.30421782925484053,\n",
       " 0.31112659293448286,\n",
       " 0.3103718540451102,\n",
       " 0.30640947487590353,\n",
       " 0.30640947487590353,\n",
       " 0.3077012395134837,\n",
       " 0.3122006444308979,\n",
       " 0.3075270690005516]"
      ]
     },
     "execution_count": 53,
     "metadata": {},
     "output_type": "execute_result"
    }
   ],
   "source": [
    "input_features = list(input_features)\n",
    "input_features = input_features[0].tolist()\n",
    "input_features"
   ]
  },
  {
   "cell_type": "code",
   "execution_count": 54,
   "id": "611475a4",
   "metadata": {},
   "outputs": [
    {
     "name": "stdout",
     "output_type": "stream",
     "text": [
      "1/1 [==============================] - 0s 47ms/step\n",
      "for day 1 stock closing price predictions is : 0.3091892898082733\n",
      "1/1 [==============================] - 0s 46ms/step\n",
      "for day 2 stock closing price predictions is : 0.309138685464859\n",
      "1/1 [==============================] - 0s 45ms/step\n",
      "for day 3 stock closing price predictions is : 0.30904993414878845\n",
      "1/1 [==============================] - 0s 45ms/step\n",
      "for day 4 stock closing price predictions is : 0.3089771568775177\n",
      "1/1 [==============================] - 0s 43ms/step\n",
      "for day 5 stock closing price predictions is : 0.3088996708393097\n",
      "1/1 [==============================] - 0s 48ms/step\n",
      "for day 6 stock closing price predictions is : 0.30880799889564514\n",
      "1/1 [==============================] - 0s 44ms/step\n",
      "for day 7 stock closing price predictions is : 0.308705598115921\n",
      "1/1 [==============================] - 0s 44ms/step\n",
      "for day 8 stock closing price predictions is : 0.3085988759994507\n",
      "1/1 [==============================] - 0s 45ms/step\n",
      "for day 9 stock closing price predictions is : 0.3084927797317505\n",
      "1/1 [==============================] - 0s 44ms/step\n",
      "for day 10 stock closing price predictions is : 0.30839064717292786\n",
      "1/1 [==============================] - 0s 46ms/step\n",
      "for day 11 stock closing price predictions is : 0.3082943558692932\n",
      "1/1 [==============================] - 0s 46ms/step\n",
      "for day 12 stock closing price predictions is : 0.3082045912742615\n",
      "1/1 [==============================] - 0s 47ms/step\n",
      "for day 13 stock closing price predictions is : 0.3081212341785431\n",
      "1/1 [==============================] - 0s 44ms/step\n",
      "for day 14 stock closing price predictions is : 0.3080436885356903\n",
      "1/1 [==============================] - 0s 47ms/step\n",
      "for day 15 stock closing price predictions is : 0.30797088146209717\n",
      "1/1 [==============================] - 0s 49ms/step\n",
      "for day 16 stock closing price predictions is : 0.3079017400741577\n",
      "1/1 [==============================] - 0s 49ms/step\n",
      "for day 17 stock closing price predictions is : 0.3078349530696869\n",
      "1/1 [==============================] - 0s 50ms/step\n",
      "for day 18 stock closing price predictions is : 0.3077694773674011\n",
      "1/1 [==============================] - 0s 49ms/step\n",
      "for day 19 stock closing price predictions is : 0.30770444869995117\n",
      "1/1 [==============================] - 0s 46ms/step\n",
      "for day 20 stock closing price predictions is : 0.3076390027999878\n",
      "1/1 [==============================] - 0s 46ms/step\n",
      "for day 21 stock closing price predictions is : 0.3075725734233856\n",
      "1/1 [==============================] - 0s 47ms/step\n",
      "for day 22 stock closing price predictions is : 0.3075048625469208\n",
      "1/1 [==============================] - 0s 49ms/step\n",
      "for day 23 stock closing price predictions is : 0.3074356019496918\n",
      "1/1 [==============================] - 0s 50ms/step\n",
      "for day 24 stock closing price predictions is : 0.30736467242240906\n",
      "1/1 [==============================] - 0s 44ms/step\n",
      "for day 25 stock closing price predictions is : 0.307292103767395\n",
      "1/1 [==============================] - 0s 44ms/step\n",
      "for day 26 stock closing price predictions is : 0.30721789598464966\n",
      "1/1 [==============================] - 0s 43ms/step\n",
      "for day 27 stock closing price predictions is : 0.3071422874927521\n",
      "1/1 [==============================] - 0s 43ms/step\n",
      "for day 28 stock closing price predictions is : 0.30706536769866943\n",
      "1/1 [==============================] - 0s 48ms/step\n",
      "for day 29 stock closing price predictions is : 0.3069872558116913\n",
      "1/1 [==============================] - 0s 48ms/step\n",
      "for day 30 stock closing price predictions is : 0.30690819025039673\n"
     ]
    }
   ],
   "source": [
    "output = []\n",
    "n_steps = 120\n",
    "i = 0\n",
    "while i<30:\n",
    "    x_input=np.array(input_features[-120:])\n",
    "    # print(\"{} day input {}\".format(i,x_input))\n",
    "    x_input=x_input.reshape(1,-1)\n",
    "    x_input = x_input.reshape((1, 120, 1))\n",
    "    #print(x_input)\n",
    "    yhat = model.predict(x_input, verbose=True)\n",
    "    print(f\"for day {i+1} stock closing price predictions is : {yhat[0][0]}\") \n",
    "    input_features.extend(yhat[0].tolist())\n",
    "#     input_features=input_features[1:]\n",
    "    output.extend(yhat.tolist())\n",
    "    i+=1\n",
    "    \n"
   ]
  },
  {
   "cell_type": "code",
   "execution_count": 57,
   "id": "5bfbff06",
   "metadata": {},
   "outputs": [],
   "source": [
    "# plt.plot(day_pred,scaler.inverse_transform(output))\n",
    "\n",
    "output = scaler1.inverse_transform(output).tolist()"
   ]
  },
  {
   "cell_type": "code",
   "execution_count": 47,
   "id": "1551f026",
   "metadata": {},
   "outputs": [
    {
     "name": "stdout",
     "output_type": "stream",
     "text": [
      "closing price prediction for day 2024-11-16 00:00:00 is [226.14523689210412]\n",
      "closing price prediction for day 2024-11-17 00:00:00 is [226.11037151157853]\n",
      "closing price prediction for day 2024-11-18 00:00:00 is [226.04922362983226]\n",
      "closing price prediction for day 2024-11-19 00:00:00 is [225.9990815454721]\n",
      "closing price prediction for day 2024-11-20 00:00:00 is [225.94569521486756]\n",
      "closing price prediction for day 2024-11-21 00:00:00 is [225.88253507912157]\n",
      "closing price prediction for day 2024-11-22 00:00:00 is [225.81198298990725]\n",
      "closing price prediction for day 2024-11-23 00:00:00 is [225.7384535861015]\n",
      "closing price prediction for day 2024-11-24 00:00:00 is [225.66535537958143]\n",
      "closing price prediction for day 2024-11-25 00:00:00 is [225.5949880892038]\n",
      "closing price prediction for day 2024-11-26 00:00:00 is [225.5286453068256]\n",
      "closing price prediction for day 2024-11-27 00:00:00 is [225.46679929614064]\n",
      "closing price prediction for day 2024-11-28 00:00:00 is [225.4093679243326]\n",
      "closing price prediction for day 2024-11-29 00:00:00 is [225.3559405273199]\n",
      "closing price prediction for day 2024-11-30 00:00:00 is [225.30577790975568]\n",
      "closing price prediction for day 2024-12-01 00:00:00 is [225.25814087629317]\n",
      "closing price prediction for day 2024-12-02 00:00:00 is [225.21212596595285]\n",
      "closing price prediction for day 2024-12-03 00:00:00 is [225.167014516592]\n",
      "closing price prediction for day 2024-12-04 00:00:00 is [225.12221106529233]\n",
      "closing price prediction for day 2024-12-05 00:00:00 is [225.07712014913557]\n",
      "closing price prediction for day 2024-12-06 00:00:00 is [225.0313516372442]\n",
      "closing price prediction for day 2024-12-07 00:00:00 is [224.98470019757747]\n",
      "closing price prediction for day 2024-12-08 00:00:00 is [224.93698103129861]\n",
      "closing price prediction for day 2024-12-09 00:00:00 is [224.88811200559138]\n",
      "closing price prediction for day 2024-12-10 00:00:00 is [224.8381136536598]\n",
      "closing price prediction for day 2024-12-11 00:00:00 is [224.7869859755039]\n",
      "closing price prediction for day 2024-12-12 00:00:00 is [224.7348932367563]\n",
      "closing price prediction for day 2024-12-13 00:00:00 is [224.68189703702924]\n",
      "closing price prediction for day 2024-12-14 00:00:00 is [224.62807950913904]\n",
      "closing price prediction for day 2024-12-15 00:00:00 is [224.5736049187183]\n"
     ]
    }
   ],
   "source": [
    "from datetime import datetime, timedelta\n",
    "date = datetime(2024, 11, 16)\n",
    "i=0\n",
    "while i<30:\n",
    "    print(f\"closing price prediction for day {date} is {output[i]}\")\n",
    "    date = date + timedelta(days=1)\n",
    "    i+=1"
   ]
  },
  {
   "cell_type": "code",
   "execution_count": null,
   "id": "aaf04fb6",
   "metadata": {},
   "outputs": [],
   "source": []
  },
  {
   "cell_type": "code",
   "execution_count": null,
   "id": "be5e3728",
   "metadata": {},
   "outputs": [],
   "source": []
  },
  {
   "cell_type": "code",
   "execution_count": null,
   "id": "bc4bbd97",
   "metadata": {},
   "outputs": [],
   "source": []
  }
 ],
 "metadata": {
  "kernelspec": {
   "display_name": "Python 3 (ipykernel)",
   "language": "python",
   "name": "python3"
  },
  "language_info": {
   "codemirror_mode": {
    "name": "ipython",
    "version": 3
   },
   "file_extension": ".py",
   "mimetype": "text/x-python",
   "name": "python",
   "nbconvert_exporter": "python",
   "pygments_lexer": "ipython3",
   "version": "3.11.5"
  }
 },
 "nbformat": 4,
 "nbformat_minor": 5
}
